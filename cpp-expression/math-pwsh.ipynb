{
 "cells": [
  {
   "cell_type": "markdown",
   "id": "e4fc517e-230c-4276-8605-570e6506d090",
   "metadata": {},
   "source": [
    "# Math Expression"
   ]
  },
  {
   "cell_type": "markdown",
   "id": "e104959c-58c1-4556-8e76-a07ac3116b3c",
   "metadata": {},
   "source": [
    "Variable defined expression"
   ]
  },
  {
   "cell_type": "code",
   "execution_count": 4,
   "id": "08cd4fc3-0113-48f7-8b70-65ae8c80073b",
   "metadata": {},
   "outputs": [
    {
     "name": "stdout",
     "output_type": "stream",
     "text": [
      "3.19703483166135013357056057157e+48\n"
     ]
    }
   ],
   "source": [
    "MathExpression.exe \"var x:= 4^78; var y:= 5*7; x*y\""
   ]
  },
  {
   "cell_type": "markdown",
   "id": "800af332-271b-4450-8628-46318a1b428b",
   "metadata": {},
   "source": [
    "Trigonometry"
   ]
  },
  {
   "cell_type": "code",
   "execution_count": 5,
   "id": "552be692-ac18-4dcf-8503-db84eab96f02",
   "metadata": {},
   "outputs": [
    {
     "name": "stdout",
     "output_type": "stream",
     "text": [
      "1\n"
     ]
    }
   ],
   "source": [
    "MathExpression.exe \"sin(pi / 2)\""
   ]
  },
  {
   "cell_type": "markdown",
   "id": "e72f6096-e503-4c1b-ab90-b7ac5398067c",
   "metadata": {},
   "source": [
    "hypotenuse"
   ]
  },
  {
   "cell_type": "code",
   "execution_count": 6,
   "id": "3377c214-7373-435d-8b00-1382a769b92c",
   "metadata": {},
   "outputs": [
    {
     "name": "stdout",
     "output_type": "stream",
     "text": [
      "5\n"
     ]
    }
   ],
   "source": [
    "MathExpression.exe \"hypot(4,3)\""
   ]
  },
  {
   "cell_type": "markdown",
   "id": "0f9176c4-df96-41b8-a342-fb9b7f4e2107",
   "metadata": {},
   "source": [
    "Programming"
   ]
  },
  {
   "cell_type": "markdown",
   "id": "b61b2a73-1e84-4d40-a912-98707928891d",
   "metadata": {},
   "source": [
    "swich(){}"
   ]
  },
  {
   "cell_type": "code",
   "execution_count": 13,
   "id": "a0f6efa5-045e-4dd4-b69f-5f5fa807326b",
   "metadata": {},
   "outputs": [
    {
     "name": "stdout",
     "output_type": "stream",
     "text": [
      "6\n"
     ]
    }
   ],
   "source": [
    "MathExpression.exe \"\n",
    "var x:= 5;\n",
    "var y:= 6;\n",
    "var z:= 7;\n",
    "switch\n",
    "{\n",
    "\tcase x > (y + z) : 2 * x / abs(y - z);\n",
    "\tcase x < 3 : sin(x + y);\n",
    "\tdefault : 1 + x;\n",
    "}\""
   ]
  },
  {
   "cell_type": "markdown",
   "id": "0e7d5423-6de1-491a-bae7-3726c4fd0b30",
   "metadata": {},
   "source": [
    "for(){}"
   ]
  },
  {
   "cell_type": "code",
   "execution_count": 14,
   "id": "d7ae6093-ec7e-4679-a1cc-c6512d03957c",
   "metadata": {},
   "outputs": [
    {
     "name": "stdout",
     "output_type": "stream",
     "text": [
      "106\n"
     ]
    }
   ],
   "source": [
    "MathExpression.exe \"\n",
    "var n:= 100;\n",
    "var y:= 50;\n",
    "var z:= 7;\n",
    "var w:= 34;\n",
    "var u:= 98;\n",
    "var v:= 67;\n",
    "for (var x := 0; (x < n) and (x != y); x += 1)\n",
    "{\n",
    "\ty := y + x / 2 - z;\n",
    "\tw := u + y;\n",
    "}\""
   ]
  },
  {
   "cell_type": "markdown",
   "id": "5baa5a33-5f7b-4bb8-ad60-7946fbd434fe",
   "metadata": {},
   "source": [
    "while(){}"
   ]
  },
  {
   "cell_type": "code",
   "execution_count": 15,
   "id": "439913e4-ed33-49c9-ac55-d3231f30e484",
   "metadata": {},
   "outputs": [
    {
     "name": "stdout",
     "output_type": "stream",
     "text": [
      "176\n"
     ]
    }
   ],
   "source": [
    "MathExpression.exe \"\n",
    "var x:= 100;\n",
    "var y:= 50;\n",
    "var z:= 77;\n",
    "var w:= 34;\n",
    "var u:= 98;\n",
    "var v:= 67;\n",
    "while ((x -= 1) > 0)\n",
    "{\n",
    "\ty := x + z;\n",
    "\tw := u + y;\n",
    "}\""
   ]
  }
 ],
 "metadata": {
  "kernelspec": {
   "display_name": ".NET (PowerShell)",
   "language": "PowerShell",
   "name": ".net-powershell"
  },
  "language_info": {
   "file_extension": ".ps1",
   "mimetype": "text/x-powershell",
   "name": "PowerShell",
   "pygments_lexer": "powershell",
   "version": "7.0"
  }
 },
 "nbformat": 4,
 "nbformat_minor": 5
}
