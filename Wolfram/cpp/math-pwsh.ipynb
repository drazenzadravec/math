{
 "cells": [
  {
   "cell_type": "markdown",
   "id": "e5a44546-3565-4462-868b-3204c51e379d",
   "metadata": {},
   "source": [
    "# Math Expression Wolfram"
   ]
  },
  {
   "cell_type": "markdown",
   "id": "445c17d7-a6d1-4e3e-b349-d4806dd26ffe",
   "metadata": {},
   "source": [
    "Series"
   ]
  },
  {
   "cell_type": "code",
   "execution_count": 9,
   "id": "29b70641-e4e3-4be2-94b6-f5e79635a09a",
   "metadata": {},
   "outputs": [
    {
     "name": "stdout",
     "output_type": "stream",
     "text": [
      "     3    5      7       9        11          13             15\n",
      "    x    x      x       x        x           x              x              16\n",
      "x - -- + --- - ---- + ------ - -------- + ---------- - ------------- + O[x]\n",
      "    6    120   5040   362880   39916800   6227020800   1307674368000\n"
     ]
    }
   ],
   "source": [
    "MathWolfram.exe \"Series[Sin[x], {x, 0, 15}]\""
   ]
  },
  {
   "cell_type": "markdown",
   "id": "9e317f9a-a9f2-4096-90b6-2f94cd1dfb88",
   "metadata": {},
   "source": [
    "Linear Algebra numeric"
   ]
  },
  {
   "cell_type": "code",
   "execution_count": 10,
   "id": "371cbc53-72d2-4e3a-8256-c704000752d0",
   "metadata": {},
   "outputs": [
    {
     "name": "stdout",
     "output_type": "stream",
     "text": [
      "{1.625, 4.75}\n"
     ]
    }
   ],
   "source": [
    "MathWolfram.exe \"\n",
    "m = {{-2, 3}, {2, 1}};\n",
    "b = {11, 8};\n",
    "r = LinearSolve[m, b];\n",
    "N[r]\n",
    "\""
   ]
  },
  {
   "cell_type": "markdown",
   "id": "61e955cd-36ee-49bb-97d2-a6e24185940a",
   "metadata": {},
   "source": [
    "Linear Algebra rational"
   ]
  },
  {
   "cell_type": "code",
   "execution_count": 11,
   "id": "988346fb-5630-4e1c-8357-d1619c74be95",
   "metadata": {},
   "outputs": [
    {
     "name": "stdout",
     "output_type": "stream",
     "text": [
      " 13  19\n",
      "{--, --}\n",
      " 8   4\n"
     ]
    }
   ],
   "source": [
    "MathWolfram.exe \"\n",
    "m = {{-2, 3}, {2, 1}};\n",
    "b = {11, 8};\n",
    "LinearSolve[m, b]\n",
    "\""
   ]
  }
 ],
 "metadata": {
  "kernelspec": {
   "display_name": ".NET (PowerShell)",
   "language": "PowerShell",
   "name": ".net-powershell"
  },
  "language_info": {
   "file_extension": ".ps1",
   "mimetype": "text/x-powershell",
   "name": "PowerShell",
   "pygments_lexer": "powershell",
   "version": "7.0"
  }
 },
 "nbformat": 4,
 "nbformat_minor": 5
}
