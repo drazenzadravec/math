{
 "cells": [
  {
   "cell_type": "markdown",
   "id": "f245b771-8fc7-405d-818a-f81e1c9a9cc2",
   "metadata": {},
   "source": [
    "# Math Expression\n",
    "Load libs"
   ]
  },
  {
   "cell_type": "code",
   "execution_count": 1,
   "id": "76d0b9ed-23bf-4276-9dfc-9c204c092b0b",
   "metadata": {},
   "outputs": [
    {
     "data": {
      "text/html": [
       "\r\n",
       "<div>\r\n",
       "    <div id='dotnet-interactive-this-cell-10556.Microsoft.DotNet.Interactive.Http.HttpPort' style='display: none'>\r\n",
       "        The below script needs to be able to find the current output cell; this is an easy method to get it.\r\n",
       "    </div>\r\n",
       "    <script type='text/javascript'>\r\n",
       "async function probeAddresses(probingAddresses) {\r\n",
       "    function timeout(ms, promise) {\r\n",
       "        return new Promise(function (resolve, reject) {\r\n",
       "            setTimeout(function () {\r\n",
       "                reject(new Error('timeout'))\r\n",
       "            }, ms)\r\n",
       "            promise.then(resolve, reject)\r\n",
       "        })\r\n",
       "    }\r\n",
       "\r\n",
       "    if (Array.isArray(probingAddresses)) {\r\n",
       "        for (let i = 0; i < probingAddresses.length; i++) {\r\n",
       "\r\n",
       "            let rootUrl = probingAddresses[i];\r\n",
       "\r\n",
       "            if (!rootUrl.endsWith('/')) {\r\n",
       "                rootUrl = `${rootUrl}/`;\r\n",
       "            }\r\n",
       "\r\n",
       "            try {\r\n",
       "                let response = await timeout(1000, fetch(`${rootUrl}discovery`, {\r\n",
       "                    method: 'POST',\r\n",
       "                    cache: 'no-cache',\r\n",
       "                    mode: 'cors',\r\n",
       "                    timeout: 1000,\r\n",
       "                    headers: {\r\n",
       "                        'Content-Type': 'text/plain'\r\n",
       "                    },\r\n",
       "                    body: probingAddresses[i]\r\n",
       "                }));\r\n",
       "\r\n",
       "                if (response.status == 200) {\r\n",
       "                    return rootUrl;\r\n",
       "                }\r\n",
       "            }\r\n",
       "            catch (e) { }\r\n",
       "        }\r\n",
       "    }\r\n",
       "}\r\n",
       "\r\n",
       "function loadDotnetInteractiveApi() {\r\n",
       "    probeAddresses([\"http://192.168.0.210:2048/\", \"http://172.30.240.1:2048/\", \"http://172.24.0.1:2048/\", \"http://127.0.0.1:2048/\"])\r\n",
       "        .then((root) => {\r\n",
       "        // use probing to find host url and api resources\r\n",
       "        // load interactive helpers and language services\r\n",
       "        let dotnetInteractiveRequire = require.config({\r\n",
       "        context: '10556.Microsoft.DotNet.Interactive.Http.HttpPort',\r\n",
       "                paths:\r\n",
       "            {\r\n",
       "                'dotnet-interactive': `${root}resources`\r\n",
       "                }\r\n",
       "        }) || require;\r\n",
       "\r\n",
       "            window.dotnetInteractiveRequire = dotnetInteractiveRequire;\r\n",
       "\r\n",
       "            window.configureRequireFromExtension = function(extensionName, extensionCacheBuster) {\r\n",
       "                let paths = {};\r\n",
       "                paths[extensionName] = `${root}extensions/${extensionName}/resources/`;\r\n",
       "                \r\n",
       "                let internalRequire = require.config({\r\n",
       "                    context: extensionCacheBuster,\r\n",
       "                    paths: paths,\r\n",
       "                    urlArgs: `cacheBuster=${extensionCacheBuster}`\r\n",
       "                    }) || require;\r\n",
       "\r\n",
       "                return internalRequire\r\n",
       "            };\r\n",
       "        \r\n",
       "            dotnetInteractiveRequire([\r\n",
       "                    'dotnet-interactive/dotnet-interactive'\r\n",
       "                ],\r\n",
       "                function (dotnet) {\r\n",
       "                    dotnet.init(window);\r\n",
       "                },\r\n",
       "                function (error) {\r\n",
       "                    console.log(error);\r\n",
       "                }\r\n",
       "            );\r\n",
       "        })\r\n",
       "        .catch(error => {console.log(error);});\r\n",
       "    }\r\n",
       "\r\n",
       "// ensure `require` is available globally\r\n",
       "if ((typeof(require) !==  typeof(Function)) || (typeof(require.config) !== typeof(Function))) {\r\n",
       "    let require_script = document.createElement('script');\r\n",
       "    require_script.setAttribute('src', 'https://cdnjs.cloudflare.com/ajax/libs/require.js/2.3.6/require.min.js');\r\n",
       "    require_script.setAttribute('type', 'text/javascript');\r\n",
       "    \r\n",
       "    \r\n",
       "    require_script.onload = function() {\r\n",
       "        loadDotnetInteractiveApi();\r\n",
       "    };\r\n",
       "\r\n",
       "    document.getElementsByTagName('head')[0].appendChild(require_script);\r\n",
       "}\r\n",
       "else {\r\n",
       "    loadDotnetInteractiveApi();\r\n",
       "}\r\n",
       "\r\n",
       "    </script>\r\n",
       "</div>"
      ]
     },
     "metadata": {},
     "output_type": "display_data"
    }
   ],
   "source": [
    "#r \"./dotnet-libs/Nequeo.Math.dll\"\n",
    "using Nequeo.Math;\n",
    "\n",
    "using System;\n",
    "using System.IO;"
   ]
  },
  {
   "cell_type": "markdown",
   "id": "8b096596-e862-4f6e-8dc2-045fc28d074e",
   "metadata": {},
   "source": [
    "Create instance\n",
    "\n",
    "Run expression"
   ]
  },
  {
   "cell_type": "code",
   "execution_count": 2,
   "id": "8f4f35ea-adfb-448e-b24f-b2dfddc14943",
   "metadata": {},
   "outputs": [],
   "source": [
    "Nequeo.Math.MathGenerics<string> exp = new Nequeo.Math.MathGenerics<string>();\n",
    "double result = exp.Expression<Double>(\"cos(x) * sin(x) * sqrt(x) * pi\", 3.0, \"x\");\n",
    "double result1 = exp.Expression<Double>(\"((34.8 * 23) * sqrt(9.0)) + pi\");"
   ]
  },
  {
   "cell_type": "markdown",
   "id": "1651eaf6-b28d-4a66-9893-1df77d6a78f0",
   "metadata": {},
   "source": [
    "Compute result"
   ]
  },
  {
   "cell_type": "code",
   "execution_count": 3,
   "id": "0c5b39a1-304b-4d32-8889-161666725195",
   "metadata": {},
   "outputs": [
    {
     "name": "stdout",
     "output_type": "stream",
     "text": [
      "-0.7602054794855984\n",
      "2404.3415926535895\n"
     ]
    }
   ],
   "source": [
    "Console.WriteLine(result);\n",
    "Console.WriteLine(result1);"
   ]
  },
  {
   "cell_type": "markdown",
   "id": "fc974f96-3744-4591-a6c6-9869dc9f9ccc",
   "metadata": {},
   "source": [
    "Run expression with variables"
   ]
  },
  {
   "cell_type": "code",
   "execution_count": 4,
   "id": "139ffc67-e10e-42c1-b294-6f02ccecf42b",
   "metadata": {},
   "outputs": [],
   "source": [
    "System.Collections.Generic.Dictionary<string, double> vars = new System.Collections.Generic.Dictionary<string, double>();\n",
    "vars.Add(\"x\", 2.7);\n",
    "vars.Add(\"y\", 5.7);\n",
    "vars.Add(\"z\", 5.7);\n",
    "double result2 = exp.ExpressionMulti<Double>(\"2y^5 * 6x^2 * z * pi\", vars);"
   ]
  },
  {
   "cell_type": "markdown",
   "id": "17a36266-d0cc-405c-a216-05324671181d",
   "metadata": {},
   "source": [
    "Compute result"
   ]
  },
  {
   "cell_type": "code",
   "execution_count": 5,
   "id": "4594d1a5-9072-4b13-ae76-45c3808f2322",
   "metadata": {},
   "outputs": [
    {
     "name": "stdout",
     "output_type": "stream",
     "text": [
      "9425573.428813294\n"
     ]
    }
   ],
   "source": [
    "Console.WriteLine(result2);"
   ]
  },
  {
   "cell_type": "markdown",
   "id": "ecc4266c-a9e9-4785-a8f8-3e9806f7d566",
   "metadata": {},
   "source": [
    "Run expression with multi line, compute mean"
   ]
  },
  {
   "cell_type": "code",
   "execution_count": 6,
   "id": "da46c394-f21c-458f-940a-af8e081815aa",
   "metadata": {},
   "outputs": [],
   "source": [
    "double mean = exp.Expression<Double>(\n",
    "    \" var x[25] := {                     \" +\n",
    "    \"                 1,  2,  3,  4,  5, \" +\n",
    "    \"                 6,  7,  8,  9, 10, \" +\n",
    "    \"                11, 12, 13, 14, 15, \" +\n",
    "    \"                16, 17, 18, 19, 20, \" +\n",
    "    \"                21, 22, 23, 24, 25  \" +\n",
    "    \"              };                    \" +\n",
    "    \"                                    \" +\n",
    "    \" avg(x)\");"
   ]
  },
  {
   "cell_type": "markdown",
   "id": "a45b156a-e19c-4794-9f6c-563b7cff4580",
   "metadata": {},
   "source": [
    "Compute result"
   ]
  },
  {
   "cell_type": "code",
   "execution_count": 7,
   "id": "f11fe0ea-ad15-476a-91e1-7ff939fddb56",
   "metadata": {},
   "outputs": [
    {
     "name": "stdout",
     "output_type": "stream",
     "text": [
      "13\n"
     ]
    }
   ],
   "source": [
    "Console.WriteLine(mean);"
   ]
  },
  {
   "cell_type": "markdown",
   "id": "c7b9d94f-a01c-413c-88e5-920b815f727b",
   "metadata": {},
   "source": [
    "Run expression with multi line, compute standard deviation"
   ]
  },
  {
   "cell_type": "code",
   "execution_count": 8,
   "id": "8a2b2ec1-1739-4797-b262-a47401b31704",
   "metadata": {},
   "outputs": [],
   "source": [
    "double standardDeviation = exp.Expression<Double>(\n",
    "    \" var x[25] := {                     \" +\n",
    "    \"                 1,  2,  3,  4,  5, \" +\n",
    "    \"                 6,  7,  8,  9, 10, \" +\n",
    "    \"                11, 12, 13, 14, 15, \" +\n",
    "    \"                16, 17, 18, 19, 20, \" +\n",
    "    \"                21, 22, 23, 24, 25  \" +\n",
    "    \"              };                    \" +\n",
    "    \"                                    \" +\n",
    "    \" sqrt(sum([x - avg(x)]^2) / x[])    \");"
   ]
  },
  {
   "cell_type": "markdown",
   "id": "8e9b5dc3-ebd6-4840-bfdf-99ace09414b3",
   "metadata": {},
   "source": [
    "Compute result"
   ]
  },
  {
   "cell_type": "code",
   "execution_count": 9,
   "id": "772b2012-079f-4489-989e-e61a281b1409",
   "metadata": {},
   "outputs": [
    {
     "name": "stdout",
     "output_type": "stream",
     "text": [
      "7.211102550927978\n"
     ]
    }
   ],
   "source": [
    "Console.WriteLine(standardDeviation);"
   ]
  }
 ],
 "metadata": {
  "kernelspec": {
   "display_name": ".NET (C#)",
   "language": "C#",
   "name": ".net-csharp"
  },
  "language_info": {
   "file_extension": ".cs",
   "mimetype": "text/x-csharp",
   "name": "C#",
   "pygments_lexer": "csharp",
   "version": "12.0"
  }
 },
 "nbformat": 4,
 "nbformat_minor": 5
}
