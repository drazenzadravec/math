{
 "cells": [
  {
   "cell_type": "markdown",
   "id": "5a2698f3-1934-46e0-8604-05911fef7dee",
   "metadata": {},
   "source": [
    "## Math JS\n",
    "Sample execution"
   ]
  },
  {
   "cell_type": "code",
   "execution_count": 1,
   "id": "cad847c4-04be-4cc0-b4cb-b310f3706efa",
   "metadata": {},
   "outputs": [],
   "source": [
    "import * as math from \"npm:mathjs\";"
   ]
  },
  {
   "cell_type": "code",
   "execution_count": 2,
   "id": "e4f901a5-a0a1-4a52-877a-7ddc9a397896",
   "metadata": {},
   "outputs": [],
   "source": [
    "/**\n",
    " * math expressions object.\n",
    " */\n",
    "export interface mathExpressions {\n",
    "\t\"expressions\": Array<string>,\n",
    "\t\"options\": any\n",
    "}"
   ]
  },
  {
   "cell_type": "markdown",
   "id": "ee969ad9-955e-4ddc-bfce-ecafb6cd09d9",
   "metadata": {},
   "source": [
    "### Math Function\n",
    "Math JS expression evaluation"
   ]
  },
  {
   "cell_type": "code",
   "execution_count": 3,
   "id": "19360249-ee4e-4304-ad40-8b845a68fd8c",
   "metadata": {},
   "outputs": [],
   "source": [
    "/**\n",
    "* get the math expression\n",
    "* @param {string}\texpression  the context.\n",
    "* @param {any}\toptions  the format options.\n",
    "* @returns {Promise<string>} the response.\n",
    "*/\n",
    "export async function mathExpression(expression: string, options?: any): Promise<string> {\n",
    "\n",
    "\tlet result: string = \"\";\n",
    "\ttry {\n",
    "\t\tlet ans: any = math.evaluate(expression);\n",
    "\n",
    "\t\t// if format options\n",
    "\t\tif (options) {\n",
    "\t\t\tresult = math.format(ans, options);\n",
    "\t\t}\n",
    "\t\telse {\n",
    "\t\t\tresult = math.format(ans);\n",
    "\t\t}\n",
    "\t} catch (e) {\n",
    "\t\tresult = \"error\";\n",
    "\t}\n",
    "\treturn JSON.stringify({\n",
    "\t\tresult: result,\n",
    "\t\toptions: options\n",
    "\t});\n",
    "}"
   ]
  },
  {
   "cell_type": "markdown",
   "id": "7641e2b2-9756-4b77-bc7a-17a254a1d2a5",
   "metadata": {},
   "source": [
    "Single expression"
   ]
  },
  {
   "cell_type": "code",
   "execution_count": 4,
   "id": "9632636e-24e1-4b8f-814e-8ef50f8573b6",
   "metadata": {},
   "outputs": [
    {
     "data": {
      "text/plain": [
       "\u001b[32m'{\"result\":\"25\"}'\u001b[39m"
      ]
     },
     "execution_count": 4,
     "metadata": {},
     "output_type": "execute_result"
    }
   ],
   "source": [
    "await mathExpression(\"5*5\")"
   ]
  },
  {
   "cell_type": "markdown",
   "id": "fa5e8713-bcb5-46d5-a14d-1d614bbb4edf",
   "metadata": {},
   "source": [
    "Multi expressions"
   ]
  },
  {
   "cell_type": "code",
   "execution_count": 6,
   "id": "f0b472f3-8418-4c4a-814d-57ae62367330",
   "metadata": {},
   "outputs": [
    {
     "data": {
      "text/plain": [
       "\u001b[32m'{\"result\":\"[25, 3125, 0.847457627118644]\"}'\u001b[39m"
      ]
     },
     "execution_count": 6,
     "metadata": {},
     "output_type": "execute_result"
    }
   ],
   "source": [
    "await mathExpression(\"5*5\\n5^5\\n5/5.9\")"
   ]
  }
 ],
 "metadata": {
  "kernelspec": {
   "display_name": "Deno",
   "language": "typescript",
   "name": "deno"
  },
  "language_info": {
   "codemirror_mode": "typescript",
   "file_extension": ".ts",
   "mimetype": "text/x.typescript",
   "name": "typescript",
   "nbconvert_exporter": "script",
   "pygments_lexer": "typescript",
   "version": "5.4.5"
  }
 },
 "nbformat": 4,
 "nbformat_minor": 5
}
